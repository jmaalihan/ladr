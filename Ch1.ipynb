{
 "cells": [
  {
   "cell_type": "code",
   "execution_count": null,
   "id": "4f862e82",
   "metadata": {},
   "outputs": [],
   "source": [
    "$$ Prove $-(-v)=v$ for every $v \\in V$ :\n",
    "\n",
    "Let $v \\in V$.\n",
    "\n",
    "Then $v+-v=0$ by the definition of additive inverse.\n",
    "\n",
    "By above, v is the vector that when added to -v, yields zero.\n",
    "\n",
    "Then $v$ is the additive inverse of $-v$.\n",
    "\n",
    "Hence, v=-(-v) $$"
   ]
  },
  {
   "cell_type": "code",
   "execution_count": null,
   "id": "f46fbae7",
   "metadata": {},
   "outputs": [],
   "source": [
    "Prove that if $a \\in \\mathbb{F}$, $v \\in V$, and $av = 0$, then $a = 0$ or $v = 0$:\n",
    "\n",
    "   "
   ]
  },
  {
   "cell_type": "code",
   "execution_count": null,
   "id": "fcc02dd3",
   "metadata": {},
   "outputs": [],
   "source": []
  }
 ],
 "metadata": {
  "kernelspec": {
   "display_name": "Python 3",
   "language": "python",
   "name": "python3"
  },
  "language_info": {
   "codemirror_mode": {
    "name": "ipython",
    "version": 3
   },
   "file_extension": ".py",
   "mimetype": "text/x-python",
   "name": "python",
   "nbconvert_exporter": "python",
   "pygments_lexer": "ipython3",
   "version": "3.9.5"
  }
 },
 "nbformat": 4,
 "nbformat_minor": 5
}
